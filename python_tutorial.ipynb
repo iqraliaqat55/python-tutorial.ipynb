{
  "nbformat": 4,
  "nbformat_minor": 0,
  "metadata": {
    "colab": {
      "provenance": [],
      "mount_file_id": "1mOFoU0kEReG0yimLgq9t8tEsiENUpA7R",
      "authorship_tag": "ABX9TyMV0FLCiysD5loKn385vv9o",
      "include_colab_link": true
    },
    "kernelspec": {
      "name": "python3",
      "display_name": "Python 3"
    },
    "language_info": {
      "name": "python"
    }
  },
  "cells": [
    {
      "cell_type": "markdown",
      "metadata": {
        "id": "view-in-github",
        "colab_type": "text"
      },
      "source": [
        "<a href=\"https://colab.research.google.com/github/iqraliaqat55/python-tutorial.ipynb/blob/main/python_tutorial.ipynb\" target=\"_parent\"><img src=\"https://colab.research.google.com/assets/colab-badge.svg\" alt=\"Open In Colab\"/></a>"
      ]
    },
    {
      "cell_type": "markdown",
      "source": [
        "# start tutorial python in google colab"
      ],
      "metadata": {
        "id": "-BNOQTTIyI21"
      }
    },
    {
      "cell_type": "markdown",
      "source": [
        "**Google Colab is a cloud-based platform that allows you to write and execute Python code in a Jupyter Notebook environment. It's particularly useful for beginners, data scientists, and researchers because it provides free access to GPUs and TPUs, which are powerful for deep learning tasks.**"
      ],
      "metadata": {
        "id": "AbqIcv6QyOvs"
      }
    },
    {
      "cell_type": "markdown",
      "source": [
        "Here's a step-by-step tutorial to get you started with Python in Google Colab:"
      ],
      "metadata": {
        "id": "k0GtW7cByVmk"
      }
    },
    {
      "cell_type": "markdown",
      "source": [
        "**Basic Python Syntax**\n",
        "\n",
        "Let's start with some simple Python code to get comfortable with the basics."
      ],
      "metadata": {
        "id": "cwSU7b0pwKmX"
      }
    },
    {
      "cell_type": "markdown",
      "source": [
        "**Print Statements**\n",
        "\n",
        "In the first cell, let's try printing some text"
      ],
      "metadata": {
        "id": "4P_xV3CAwoio"
      }
    },
    {
      "cell_type": "code",
      "source": [
        "# Let's print \"Hello, World!\"\n",
        "\n",
        "print(\"Hello, World!\")\n"
      ],
      "metadata": {
        "colab": {
          "base_uri": "https://localhost:8080/"
        },
        "id": "H3nEh9bXwOks",
        "outputId": "b049ae6e-b257-4f6f-fa0f-a1ba3c531475"
      },
      "execution_count": 1,
      "outputs": [
        {
          "output_type": "stream",
          "name": "stdout",
          "text": [
            "Hello, World!\n"
          ]
        }
      ]
    },
    {
      "cell_type": "markdown",
      "source": [
        "**Explanation:**\n",
        " print() is a function that outputs text to the screen. Anything inside the parentheses will be displayed."
      ],
      "metadata": {
        "id": "zu48jsS4xAm6"
      }
    },
    {
      "cell_type": "markdown",
      "source": [
        "**Example**\n",
        "\n",
        " Here's a simple example of using print statements with some dummy values"
      ],
      "metadata": {
        "id": "SdytNuA3xhzC"
      }
    },
    {
      "cell_type": "code",
      "source": [
        "# Printing dummy values\n",
        "print(\"Name:\", \"John Doe\")\n",
        "print(\"Age:\", 28)\n",
        "print(\"Country:\", \"USA\")\n",
        "print(\"Favorite Color:\", \"Blue\")\n",
        "print(\"Hobbies:\", [\"Reading\", \"Traveling\", \"Gaming\"])\n",
        "\n"
      ],
      "metadata": {
        "colab": {
          "base_uri": "https://localhost:8080/"
        },
        "id": "H3lBjvS_xJbZ",
        "outputId": "228a6b59-828c-466b-da64-1a6e010fe17f"
      },
      "execution_count": 3,
      "outputs": [
        {
          "output_type": "stream",
          "name": "stdout",
          "text": [
            "Name: John Doe\n",
            "Age: 28\n",
            "Country: USA\n",
            "Favorite Color: Blue\n",
            "Hobbies: ['Reading', 'Traveling', 'Gaming']\n"
          ]
        }
      ]
    },
    {
      "cell_type": "markdown",
      "source": [
        "**Explanation:**\n",
        "\n",
        "Simple print statements: This directly prints text and values, such as \"Name:\", \"John Doe\".\n"
      ],
      "metadata": {
        "id": "T7oKITADx5Rp"
      }
    },
    {
      "cell_type": "markdown",
      "source": [
        "**Variables**\n",
        "\n",
        "Let's create variables and use them in operations."
      ],
      "metadata": {
        "id": "bc6Zy0i2ycrP"
      }
    },
    {
      "cell_type": "code",
      "source": [
        "# Variables\n",
        "x = 5\n",
        "y = 10\n"
      ],
      "metadata": {
        "id": "N6RdxX7wyFNF"
      },
      "execution_count": 4,
      "outputs": []
    },
    {
      "cell_type": "code",
      "source": [
        "# Perform a basic operation\n",
        "z = x + y\n"
      ],
      "metadata": {
        "id": "o3oz3zxEzN6c"
      },
      "execution_count": 5,
      "outputs": []
    },
    {
      "cell_type": "code",
      "source": [
        "# Print the result\n",
        "print(\"The sum of x and y is:\", z)\n"
      ],
      "metadata": {
        "colab": {
          "base_uri": "https://localhost:8080/"
        },
        "id": "cw7XCFQBzSHX",
        "outputId": "54aa925a-4a12-43b1-9ee7-0147deb00430"
      },
      "execution_count": 6,
      "outputs": [
        {
          "output_type": "stream",
          "name": "stdout",
          "text": [
            "The sum of x and y is: 15\n"
          ]
        }
      ]
    },
    {
      "cell_type": "markdown",
      "source": [
        "**Explanation:**\n",
        "\n",
        " Variables in Python are created by simply assigning a value using the = operator. Here, x and y are integers, and z is the result of their sum."
      ],
      "metadata": {
        "id": "4qFVtodL1WRc"
      }
    },
    {
      "cell_type": "markdown",
      "source": [
        "#  Data Types\n",
        "Python has several built-in data types like integers, floats, strings, and lists."
      ],
      "metadata": {
        "id": "FM_ddNOn1Zzk"
      }
    },
    {
      "cell_type": "code",
      "source": [
        "# Integer\n",
        "a = 5\n",
        "\n",
        "\n"
      ],
      "metadata": {
        "id": "-lRdL47y2Nf5"
      },
      "execution_count": 7,
      "outputs": []
    },
    {
      "cell_type": "code",
      "source": [
        "from google.colab import drive\n",
        "drive.mount('/content/drive')"
      ],
      "metadata": {
        "colab": {
          "base_uri": "https://localhost:8080/"
        },
        "id": "nvyCCXzXxATa",
        "outputId": "48756984-8cf6-4923-a392-4a0b16ee16c1"
      },
      "execution_count": 8,
      "outputs": [
        {
          "output_type": "stream",
          "name": "stdout",
          "text": [
            "Drive already mounted at /content/drive; to attempt to forcibly remount, call drive.mount(\"/content/drive\", force_remount=True).\n"
          ]
        }
      ]
    },
    {
      "cell_type": "code",
      "source": [
        "# Float\n",
        "b = 3.14"
      ],
      "metadata": {
        "id": "m30yPVR73YJh"
      },
      "execution_count": 9,
      "outputs": []
    },
    {
      "cell_type": "code",
      "source": [
        "# String\n",
        "c = \"Python is fun!\""
      ],
      "metadata": {
        "id": "qhNXwHOR33GR"
      },
      "execution_count": 10,
      "outputs": []
    },
    {
      "cell_type": "code",
      "source": [
        "# List\n",
        "d = [1, 2, 3, 4, 5]"
      ],
      "metadata": {
        "id": "_rqyUfkS39yC"
      },
      "execution_count": 11,
      "outputs": []
    },
    {
      "cell_type": "code",
      "source": [
        "print(a, b, c, d)"
      ],
      "metadata": {
        "id": "C0d_W9NW3_I_",
        "colab": {
          "base_uri": "https://localhost:8080/"
        },
        "outputId": "c1015bf9-4f03-43e7-dec1-9a17fbaae712"
      },
      "execution_count": 12,
      "outputs": [
        {
          "output_type": "stream",
          "name": "stdout",
          "text": [
            "5 3.14 Python is fun! [1, 2, 3, 4, 5]\n"
          ]
        }
      ]
    },
    {
      "cell_type": "markdown",
      "source": [
        "### Explanation: Lists in Python are ordered collections of items that can be of any type."
      ],
      "metadata": {
        "id": "yUtFYYKKx3P2"
      }
    }
  ]
}